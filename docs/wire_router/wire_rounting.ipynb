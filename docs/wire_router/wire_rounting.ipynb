{
 "cells": [
  {
   "cell_type": "markdown",
   "metadata": {},
   "source": [
    "# Rectilinear Steiner Trees\n",
    "\n",
    "This notebook shows a simple overview of how a wire routing algorithm could work.\n",
    "    Use `shift`-`enter` to jump through the cells"
   ]
  },
  {
   "cell_type": "code",
   "execution_count": null,
   "metadata": {
    "collapsed": true
   },
   "outputs": [],
   "source": [
    "%matplotlib inline\n",
    "import numpy as np\n",
    "import matplotlib.pyplot as plt\n",
    "import matplotlib.patches as patches\n",
    "\n",
    "def plot_square(axes, xy, h, w):\n",
    "    axes.add_patch( patches.Rectangle(xy, w,h))\n",
    "    \n",
    "def plot_lines(axes, list_of_pos, prop='r-o'):\n",
    "    x_values, y_values = [], []\n",
    "    for pos in list_of_pos:\n",
    "        x_values += [pos[0]]\n",
    "        y_values += [pos[1]]\n",
    "        axes.plot(x_values, y_values, prop)\n",
    "\n",
    "def create_plot():\n",
    "    figure = plt.figure()\n",
    "    plot = figure.add_subplot(111, aspect='equal')\n",
    "    plot.grid(True)\n",
    "    return plot"
   ]
  },
  {
   "cell_type": "markdown",
   "metadata": {},
   "source": [
    "Let us first create a simple system with 2 blocks with one terminal per block that we want to connect as given in the first figure."
   ]
  },
  {
   "cell_type": "code",
   "execution_count": null,
   "metadata": {},
   "outputs": [],
   "source": [
    "plot = create_plot()\n",
    "\n",
    "plot_square( plot, (0.6, 0.4), h=0.2, w=0.2)\n",
    "plot_square( plot, (0.0, 0.1), h=0.2, w=0.2)\n",
    "\n",
    "plot_lines(plot, [(0.1, 0.3), (0.1, 0.5), (0.6, 0.5)])\n"
   ]
  },
  {
   "cell_type": "markdown",
   "metadata": {},
   "source": [
    "If we create a block class including the terminal coordinates we can handle them more easily."
   ]
  },
  {
   "cell_type": "code",
   "execution_count": null,
   "metadata": {
    "collapsed": true
   },
   "outputs": [],
   "source": [
    "class Block():\n",
    "    def __init__(self, x, y, h, w, term_xy):\n",
    "        self.x, self.y = x, y\n",
    "        self.h, self.w = h, w\n",
    "        self.term_xy = term_xy\n",
    "    @property\n",
    "    def xy(self):\n",
    "        return (self.x, self.y)"
   ]
  },
  {
   "cell_type": "markdown",
   "metadata": {},
   "source": [
    "Lets create the two blocks with each one terminal as was shown in the first image."
   ]
  },
  {
   "cell_type": "code",
   "execution_count": null,
   "metadata": {
    "collapsed": true
   },
   "outputs": [],
   "source": [
    "block1 = Block(x=0.0, y=0.1, h=0.2, w=0.2, term_xy=[(0.1, 0.35)])\n",
    "block2 = Block(x=0.6, y=0.5, h=0.2, w=0.2, term_xy=[(0.55, 0.6)])\n",
    "\n",
    "blocks = [block1, block2]\n",
    "\n",
    "def plot_block(axes, block):\n",
    "    axes.add_patch( patches.Rectangle(block.xy, block.w, block.h))\n",
    "    for xy in block.term_xy:\n",
    "        axes.plot(xy[0], xy[1], 'og')"
   ]
  },
  {
   "cell_type": "markdown",
   "metadata": {},
   "source": [
    "Now let us create a [hanan grid](https://en.wikipedia.org/wiki/Hanan_grid) which is basically a grid where all points in the plot have a horizontal and vertical line through them."
   ]
  },
  {
   "cell_type": "code",
   "execution_count": null,
   "metadata": {},
   "outputs": [],
   "source": [
    "one_wire_plot = create_plot()\n",
    "\n",
    "plot_block(one_wire_plot, block1)\n",
    "plot_block(one_wire_plot, block2)\n",
    "\n",
    "def calculate_all_hanan_grid_lines(blocks):\n",
    "    h_lines, v_lines = [], []\n",
    "    for block in blocks:\n",
    "        for term_xy in block.term_xy:\n",
    "            v_lines += [term_xy[0]]\n",
    "            h_lines += [term_xy[1]]\n",
    "            \n",
    "        v_lines += [block.x]\n",
    "        h_lines += [block.y]\n",
    "        v_lines += [block.x + block.w]\n",
    "        h_lines += [block.y + block.h]\n",
    "    return h_lines, v_lines\n",
    "            \n",
    "h_lines, v_lines = calculate_all_hanan_grid_lines([block1, block2])\n",
    "\n",
    "for h_line, v_line in zip(h_lines, v_lines):\n",
    "    one_wire_plot.axhline(h_line)\n",
    "    one_wire_plot.axvline(v_line)"
   ]
  },
  {
   "cell_type": "markdown",
   "metadata": {},
   "source": [
    "Let us now calculate all intersections of all grid lines, which are just all permutations of `v_lines` and `h_lines`."
   ]
  },
  {
   "cell_type": "code",
   "execution_count": null,
   "metadata": {},
   "outputs": [],
   "source": [
    "import itertools\n",
    "all_grid_points = itertools.product(v_lines, h_lines)\n",
    "\n",
    "x,y = zip(*all_grid_points)\n",
    "\n",
    "grid_plot = create_plot()\n",
    "grid_plot.plot(x, y, 'b.')"
   ]
  },
  {
   "cell_type": "markdown",
   "metadata": {},
   "source": [
    "From these gridpoints we can construct a graph which contains all intersections as nodes and all edges between these nodes, have the distance as weight.  \n",
    "There is only 1 thing we need to take care of and that is that there are no nodes inside blocks. In order to do this we need a way to calculate if a given coordinate lies within any block."
   ]
  },
  {
   "cell_type": "code",
   "execution_count": null,
   "metadata": {
    "collapsed": true
   },
   "outputs": [],
   "source": [
    "#precision in digits\n",
    "ndigits=3\n",
    "EPS = 1*10**-ndigits\n",
    "\n",
    "def inside_blocks(x, y, blocks):\n",
    "    for block in blocks: \n",
    "        if all([(x - EPS) > block.x, \n",
    "                (x + EPS) < (block.x + block.w),\n",
    "                (y - EPS) > block.y,\n",
    "                (y + EPS) < (block.y + block.h)]):\n",
    "            return True\n",
    "    return False"
   ]
  },
  {
   "cell_type": "markdown",
   "metadata": {},
   "source": [
    "For creating the graph we iterate through all gridpoints from the bottom left corner to the top right corner and add them as node, we then connect them to the neighbouring node in the row below and the column to the left."
   ]
  },
  {
   "cell_type": "code",
   "execution_count": null,
   "metadata": {},
   "outputs": [],
   "source": [
    "import networkx as nx\n",
    "\n",
    "def create_graph_from_gridpoints(h_lines, v_lines, blocks):\n",
    "    graph = nx.Graph()\n",
    "\n",
    "    prev_x = None\n",
    "    for x in sorted(v_lines):\n",
    "        x = round(x, ndigits)\n",
    "    \n",
    "        prev_y = None\n",
    "        for y in sorted(h_lines):\n",
    "            y = round(y, ndigits)\n",
    "            \n",
    "            if not inside_blocks(x, y, blocks):\n",
    "                graph.add_node((x, y), pos=(x, y))\n",
    "        \n",
    "                # Add bottom to top edge\n",
    "                if prev_y is not None:\n",
    "                    graph.add_edge((x, y), (x, prev_y), weight=abs(prev_y-y))\n",
    "                # Add left to right edge\n",
    "                if prev_x is not None:\n",
    "                    graph.add_edge((x, y), (prev_x, y), weight=abs(prev_x-x))\n",
    "            prev_y = y\n",
    "        prev_x = x\n",
    "        \n",
    "    return graph\n",
    "        \n",
    "graph = create_graph_from_gridpoints(h_lines, v_lines, blocks)\n",
    "pos=nx.get_node_attributes(graph, 'pos')\n",
    "\n",
    "# Might show deprectaion: https://github.com/networkx/networkx/issues/2407\n",
    "nx.draw(graph, pos)"
   ]
  },
  {
   "cell_type": "markdown",
   "metadata": {},
   "source": [
    "Although we didn't add any nodes within a block, we still have edges that cross the interior of a block. We know that we create our graph from the bottom left to the top right corner, so if we have a function that can check if the previous coordinates were on either the left side or the bottom of a block, then we know we shouldn't add an edge to the graph on that position."
   ]
  },
  {
   "cell_type": "code",
   "execution_count": null,
   "metadata": {
    "collapsed": true
   },
   "outputs": [],
   "source": [
    "def on_edge_of_block(prevcoord, coord, blocks):\n",
    "    ''' Check if the previous coord was on the edge of and between the corners '''\n",
    "    \n",
    "    x, y = coord[0], coord[1]\n",
    "    px, py = prevcoord[0], prevcoord[1]\n",
    "    \n",
    "    on_left_of_block = False\n",
    "    on_bottom_of_block = False\n",
    "    \n",
    "    for block in blocks:\n",
    "            \n",
    "        # If previous x was on left side of block\n",
    "        if px is not None and abs(px - block.x) < EPS:\n",
    "            # and it was between top and bottom of that block\n",
    "            if y > block.y + EPS and y < (block.y + block.h - EPS):\n",
    "                on_left_of_block = True\n",
    "                return on_left_of_block, on_bottom_of_block\n",
    "                \n",
    "        # If previous y was on bottom side of block\n",
    "        if py is not None and abs(py - block.y) < EPS:\n",
    "            # and it was between left and right of that block\n",
    "            if x > block.x + EPS and x < (block.x + block.w - EPS):\n",
    "                on_bottom_of_block = True\n",
    "                return on_left_of_block, on_bottom_of_block\n",
    "        \n",
    "    return on_left_of_block, on_bottom_of_block"
   ]
  },
  {
   "cell_type": "markdown",
   "metadata": {},
   "source": [
    "We need to redefine our create_graph function so that it uses the edge checking function"
   ]
  },
  {
   "cell_type": "code",
   "execution_count": null,
   "metadata": {},
   "outputs": [],
   "source": [
    "def create_graph_from_gridpoints(h_lines, v_lines, blocks):\n",
    "    graph = nx.Graph()\n",
    "\n",
    "    prev_x = None\n",
    "    for x in sorted(v_lines):\n",
    "        x = round(x, ndigits)\n",
    "    \n",
    "        prev_y = None\n",
    "        for y in sorted(h_lines):\n",
    "            y = round(y, ndigits)\n",
    "            \n",
    "            if not inside_blocks(x, y, blocks):\n",
    "                graph.add_node((x, y), pos=(x, y))\n",
    "                \n",
    "                on_left_of_block, on_bottom_of_block = on_edge_of_block((prev_x, prev_y), (x, y), blocks)\n",
    "        \n",
    "                # Add bottom to top edge\n",
    "                if not on_bottom_of_block and prev_y is not None:\n",
    "                    graph.add_edge((x, y), (x, prev_y), weight=abs(prev_y-y))\n",
    "                # Add left to right edge\n",
    "                if not on_left_of_block and prev_x is not None:\n",
    "                    graph.add_edge((x, y), (prev_x, y), weight=abs(prev_x-x))\n",
    "            prev_y = y\n",
    "        prev_x = x\n",
    "        \n",
    "    return graph\n",
    "        \n",
    "graph = create_graph_from_gridpoints(h_lines, v_lines, blocks)\n",
    "pos=nx.get_node_attributes(graph,'pos')\n",
    "\n",
    "nx.draw(graph, pos)"
   ]
  },
  {
   "cell_type": "markdown",
   "metadata": {},
   "source": [
    "We can use any pathfinding algorithm to calculate shortest path within this graph"
   ]
  },
  {
   "cell_type": "code",
   "execution_count": null,
   "metadata": {},
   "outputs": [],
   "source": [
    "def route_wire(graph, src, dest):\n",
    "    return nx.shortest_path(graph,\n",
    "                            source=src,                        \n",
    "                            target=dest)\n",
    "\n",
    "path = route_wire(graph, block1.term_xy[0], block2.term_xy[0])"
   ]
  },
  {
   "cell_type": "code",
   "execution_count": null,
   "metadata": {},
   "outputs": [],
   "source": [
    "routed_plot = create_plot()\n",
    "\n",
    "plot_block(routed_plot, block1)\n",
    "plot_block(routed_plot, block2)\n",
    "\n",
    "def plot_path(plot, path):\n",
    "    x,y = zip(*path)\n",
    "    plot.plot(x,y,'-')\n",
    "    plot.plot(x,y,'.')\n",
    "\n",
    "plot_path(routed_plot, path)"
   ]
  },
  {
   "cell_type": "markdown",
   "metadata": {},
   "source": [
    "This is trivial example, lets add another block that is in the way and some extra wires"
   ]
  },
  {
   "cell_type": "code",
   "execution_count": null,
   "metadata": {},
   "outputs": [],
   "source": [
    "block1 = Block(x=0.0, y=0.1, h=0.2, w=0.2, term_xy=[(0.1, 0.30), (0.15, 0.30)])\n",
    "block2 = Block(x=0.6, y=0.5, h=0.2, w=0.2, term_xy=[(0.6, 0.6), (0.6, 0.55)])\n",
    "block3 = Block(x=0.3, y=0.2, h=0.2, w=0.2, term_xy=[(0.4, 0.4), (0.35, 0.4)])\n",
    "\n",
    "blocks = [block1, block2, block3]\n",
    "\n",
    "h_lines, v_lines = calculate_all_hanan_grid_lines(blocks)\n",
    "graph = create_graph_from_gridpoints(h_lines, v_lines, blocks)\n",
    "\n",
    "path1 = route_wire(graph, block1.term_xy[0], block2.term_xy[0])\n",
    "path2 = route_wire(graph, block2.term_xy[1], block3.term_xy[0])\n",
    "path3 = route_wire(graph, block1.term_xy[1], block3.term_xy[1])\n",
    "\n",
    "\n",
    "def plot_blocks_and_paths(blocks, paths):\n",
    "    plot = create_plot()\n",
    "\n",
    "    for block in blocks:\n",
    "        plot_block(plot, block)\n",
    "    for path in paths:\n",
    "        plot_path(plot, path)\n",
    "        \n",
    "plot_blocks_and_paths(blocks, [path1, path2, path3])\n"
   ]
  },
  {
   "cell_type": "markdown",
   "metadata": {
    "collapsed": true
   },
   "source": [
    "Yikes, paths overlap and follow edges of the blocks. Let us first fix the overlapping. Once a path is routed we need to block it to prevent other routes to go through the same path"
   ]
  },
  {
   "cell_type": "code",
   "execution_count": null,
   "metadata": {
    "collapsed": true
   },
   "outputs": [],
   "source": [
    "def block_path_in_graph(graph, path):  \n",
    "    prev_point = None\n",
    "    for point in path:\n",
    "        if prev_point:\n",
    "            graph.remove_edge(prev_point, point)\n",
    "        prev_point = point"
   ]
  },
  {
   "cell_type": "code",
   "execution_count": null,
   "metadata": {},
   "outputs": [],
   "source": [
    "h_lines, v_lines = calculate_all_hanan_grid_lines(blocks)\n",
    "graph = create_graph_from_gridpoints(h_lines, v_lines, blocks)\n",
    "\n",
    "def route_wire(graph, src, dest):\n",
    "    path = nx.shortest_path(graph, source=src, target=dest)\n",
    "    block_path_in_graph(graph, path)\n",
    "    return path\n",
    "\n",
    "path1 = route_wire(graph, block1.term_xy[0], block2.term_xy[0])\n",
    "path2 = route_wire(graph, block2.term_xy[1], block3.term_xy[0])\n",
    "path3 = route_wire(graph, block1.term_xy[1], block3.term_xy[1])\n",
    "\n",
    "plot_blocks_and_paths(blocks, [path1, path2, path3])"
   ]
  },
  {
   "cell_type": "markdown",
   "metadata": {},
   "source": [
    "To make the routing better, the next step is to remove the edges on the sides of the blocks to improve the routing.\n",
    "An edge is on the side of a block if both nodes that are connected are on the same block. \n",
    "\n",
    "Following is a naive first implementation"
   ]
  },
  {
   "cell_type": "code",
   "execution_count": null,
   "metadata": {
    "collapsed": true
   },
   "outputs": [],
   "source": [
    "def edge_is_on_block_edge(node1, node2, blocks):\n",
    "    ''' Check if both nodes lie on any edge of block '''\n",
    "    \n",
    "    x1, y1 = node1[0], node1[1]\n",
    "    x2, y2 = node2[0], node2[1]\n",
    "    \n",
    "    both_nodes_on_lr_edges = False\n",
    "    both_nodes_on_tb_edges = False\n",
    "    \n",
    "    for block in blocks:\n",
    "        for x,y in zip([x1, x2], [y1, y2]):\n",
    "            \n",
    "            # If both x coords are on either left or right side of block    \n",
    "            if abs(x - block.x) < EPS or \\\n",
    "                abs(x - block.x - block.w) < EPS:\n",
    "\n",
    "                # and it was between top and bottom of that block\n",
    "                if y >= block.y and y <= block.y + block.h:\n",
    "                    both_nodes_on_lr_edges = True\n",
    "                else:\n",
    "                    both_nodes_on_lr_edges = False\n",
    "                    break\n",
    "            else:\n",
    "                both_nodes_on_lr_edges = False\n",
    "                break\n",
    "                    \n",
    "        if both_nodes_on_lr_edges:\n",
    "            return True\n",
    "                    \n",
    "        for x,y in zip([x1, x2], [y1, y2]):\n",
    "            # If both y coords are on either top or bottom side of block\n",
    "            if abs(y - block.y) < EPS or \\\n",
    "                abs(y - block.y - block.h) < EPS:\n",
    "\n",
    "                # and it was between left and right of that block\n",
    "                if x >= block.x and x <= block.x + block.w:\n",
    "                    both_nodes_on_tb_edges = True\n",
    "                else:\n",
    "                    both_nodes_on_tb_edges = False\n",
    "                    break\n",
    "            else:\n",
    "                both_nodes_on_tb_edges = False\n",
    "                break\n",
    "\n",
    "        if both_nodes_on_tb_edges:\n",
    "            return True\n",
    "        \n",
    "    return False"
   ]
  },
  {
   "cell_type": "markdown",
   "metadata": {},
   "source": [
    "We need to adapt our graph creation function to use this"
   ]
  },
  {
   "cell_type": "code",
   "execution_count": null,
   "metadata": {},
   "outputs": [],
   "source": [
    "def create_graph_from_gridpoints(h_lines, v_lines, blocks):\n",
    "    graph = nx.Graph()\n",
    "\n",
    "    prev_x = None\n",
    "    for x in sorted(v_lines):\n",
    "        x = round(x, ndigits)\n",
    "    \n",
    "        prev_y = None\n",
    "        for y in sorted(h_lines):\n",
    "            y = round(y, ndigits)\n",
    "            \n",
    "            if not inside_blocks(x, y, blocks):\n",
    "                graph.add_node((x, y), pos=(x, y))\n",
    "                \n",
    "                # Add bottom to top edge\n",
    "                if prev_y is not None and not edge_is_on_block_edge((x,y), (x, prev_y), blocks):\n",
    "                    graph.add_edge((x, y), (x, prev_y), weight=abs(prev_y-y))\n",
    "                    \n",
    "                # Add left to right edge\n",
    "                if prev_x is not None and not edge_is_on_block_edge((x,y), (prev_x, y), blocks):\n",
    "                    graph.add_edge((x, y), (prev_x, y), weight=abs(prev_x-x))\n",
    "\n",
    "            prev_y = y\n",
    "        prev_x = x\n",
    "        \n",
    "    return graph\n",
    "\n",
    "h_lines, v_lines = calculate_all_hanan_grid_lines(blocks)\n",
    "graph = create_graph_from_gridpoints(h_lines, v_lines, blocks)\n",
    "pos=nx.get_node_attributes(graph,'pos')\n",
    "\n",
    "#nx.draw(graph, pos)\n",
    "\n",
    "path1 = route_wire(graph, block1.term_xy[0], block2.term_xy[0])\n",
    "path2 = route_wire(graph, block2.term_xy[1], block3.term_xy[0])\n",
    "path3 = route_wire(graph, block1.term_xy[1], block3.term_xy[1])\n",
    "\n",
    "plot_blocks_and_paths(blocks, [path1, path2, path3])"
   ]
  },
  {
   "cell_type": "markdown",
   "metadata": {},
   "source": [
    "# Wire routing order dependency\n",
    "Lets see how it handles a different order of wire routing with crossing lines. We will add a new terminal to `block3` and `block2` which forces a crossing. If we add a routing in two different orders and plot them both we can see there is a difference."
   ]
  },
  {
   "cell_type": "code",
   "execution_count": null,
   "metadata": {},
   "outputs": [],
   "source": [
    "block1 = Block(x=0.0, y=0.1, h=0.2, w=0.2, term_xy=[(0.1, 0.30), (0.15, 0.30)])\n",
    "block2 = Block(x=0.6, y=0.5, h=0.2, w=0.2, term_xy=[(0.6, 0.6), (0.6, 0.55), (0.6, 0.65)])\n",
    "block3 = Block(x=0.3, y=0.2, h=0.2, w=0.2, term_xy=[(0.4, 0.4), (0.35, 0.4), (0.45, 0.4)])\n",
    "\n",
    "blocks = [block1, block2, block3]\n",
    "\n",
    "h_lines, v_lines = calculate_all_hanan_grid_lines(blocks)\n",
    "\n",
    "graph = create_graph_from_gridpoints(h_lines, v_lines, blocks)\n",
    "paths_order1  = [route_wire(graph, block1.term_xy[0], block2.term_xy[0])]\n",
    "paths_order1 += [route_wire(graph, block2.term_xy[1], block3.term_xy[0])]\n",
    "paths_order1 += [route_wire(graph, block1.term_xy[1], block3.term_xy[1])]\n",
    "# Here is the new path\n",
    "paths_order1 += [route_wire(graph, block2.term_xy[2], block3.term_xy[2])]\n",
    "\n",
    "graph = create_graph_from_gridpoints(h_lines, v_lines, blocks)\n",
    "paths_order2  = [route_wire(graph, block1.term_xy[0], block2.term_xy[0])]\n",
    "# Here is the new path\n",
    "paths_order2 += [route_wire(graph, block2.term_xy[2], block3.term_xy[2])]\n",
    "paths_order2 += [route_wire(graph, block2.term_xy[1], block3.term_xy[0])]\n",
    "paths_order2 += [route_wire(graph, block1.term_xy[1], block3.term_xy[1])]\n",
    "      \n",
    "plot_blocks_and_paths(blocks, paths_order1)\n",
    "plot_blocks_and_paths(blocks, paths_order2)\n"
   ]
  },
  {
   "cell_type": "markdown",
   "metadata": {},
   "source": [
    "# Todo's\n",
    "\n",
    "- Improve code\n",
    "- Check non-trivial routing\n",
    "- Add additional gridlines in between blocks?\n",
    "- Improve code:\n",
    "   - For checking if inside or on edges of blocks, blocks are iterated a lot of times, combine calculations\n",
    "- Improve shortest path calculation to favor straight lines (reduce corners) "
   ]
  },
  {
   "cell_type": "code",
   "execution_count": null,
   "metadata": {
    "collapsed": true
   },
   "outputs": [],
   "source": []
  }
 ],
 "metadata": {
  "kernelspec": {
   "display_name": "Python 3",
   "language": "python",
   "name": "python3"
  },
  "language_info": {
   "codemirror_mode": {
    "name": "ipython",
    "version": 3
   },
   "file_extension": ".py",
   "mimetype": "text/x-python",
   "name": "python",
   "nbconvert_exporter": "python",
   "pygments_lexer": "ipython3",
   "version": "3.6.0"
  }
 },
 "nbformat": 4,
 "nbformat_minor": 2
}
