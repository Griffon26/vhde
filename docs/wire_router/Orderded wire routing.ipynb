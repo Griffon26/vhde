{
 "cells": [
  {
   "cell_type": "markdown",
   "metadata": {},
   "source": [
    "# Ordered wire routing"
   ]
  },
  {
   "cell_type": "code",
   "execution_count": 1,
   "metadata": {
    "collapsed": true
   },
   "outputs": [],
   "source": [
    "%matplotlib inline\n",
    "import numpy as np\n",
    "import matplotlib.pyplot as plt\n",
    "import matplotlib.patches as patches\n",
    "\n",
    "# precision in digits used in any rounding operations\n",
    "ndigits=3\n",
    "EPS = 1*10**-ndigits\n",
    "\n",
    "def plot_square(axes, xy, h, w):\n",
    "    axes.add_patch( patches.Rectangle(xy, w,h))\n",
    "    \n",
    "def plot_lines(axes, list_of_pos, prop='r-o'):\n",
    "    x_values, y_values = [], []\n",
    "    for pos in list_of_pos:\n",
    "        x_values += [pos[0]]\n",
    "        y_values += [pos[1]]\n",
    "        axes.plot(x_values, y_values, prop)\n",
    "\n",
    "def create_plot():\n",
    "    figure = plt.figure()\n",
    "    plot = figure.add_subplot(111, aspect='equal')\n",
    "    plot.grid(True)\n",
    "    return plot\n",
    "\n",
    "class Block():\n",
    "    def __init__(self, x, y, h, w, term_xy):\n",
    "        self.x, self.y = x, y\n",
    "        self.h, self.w = h, w\n",
    "        self.term_xy = term_xy\n",
    "    @property\n",
    "    def xy(self):\n",
    "        return (self.x, self.y)\n",
    "\n",
    "def plot_block(axes, block):\n",
    "    axes.add_patch( patches.Rectangle(block.xy, block.w, block.h))\n",
    "    for xy in block.term_xy:\n",
    "        axes.plot(xy[0], xy[1], 'og')"
   ]
  },
  {
   "cell_type": "code",
   "execution_count": 7,
   "metadata": {},
   "outputs": [
    {
     "data": {
      "image/png": "[encoded data removed]",
      "text/plain": [
       "<matplotlib.figure.Figure at 0x7f4b87021128>"
      ]
     },
     "metadata": {},
     "output_type": "display_data"
    }
   ],
   "source": [
    "block1 = Block(x=0.0, y=0.1, h=0.2, w=0.2, term_xy=[(0.1, 0.30), (0.15, 0.30)])\n",
    "block2 = Block(x=0.6, y=0.1, h=0.2, w=0.2, term_xy=[(0.6, 0.2), (0.6, 0.15), (0.6, 0.25)])\n",
    "block3 = Block(x=0.3, y=0.2, h=0.2, w=0.2, term_xy=[(0.4, 0.4), (0.35, 0.4), (0.45, 0.4)])\n",
    "block4 = Block(x=0.4, y=0.5, h=0.2, w=0.2, term_xy=[(0.5, 0.5)])\n",
    "\n",
    "blocks = [block1, block2, block3, block4]\n",
    "\n",
    "plot = create_plot()\n",
    "for block in blocks:\n",
    "    plot_block(plot, block)"
   ]
  },
  {
   "cell_type": "code",
   "execution_count": 13,
   "metadata": {},
   "outputs": [
    {
     "name": "stdout",
     "output_type": "stream",
     "text": [
      "([0.1, 0.15, 0.2, 0.25, 0.3, 0.30000000000000004, 0.4, 0.5, 0.7], [0.0, 0.1, 0.15, 0.2, 0.3, 0.35, 0.4, 0.45, 0.5, 0.6, 0.6000000000000001, 0.8])\n"
     ]
    }
   ],
   "source": [
    "def calculate_all_grid_lines(blocks):\n",
    "    h_lines, v_lines = [], []\n",
    "    for block in blocks:\n",
    "        for term_xy in block.term_xy:\n",
    "            v_lines += [term_xy[0]]\n",
    "            h_lines += [term_xy[1]]\n",
    "            \n",
    "        v_lines += [block.x]\n",
    "        h_lines += [block.y]\n",
    "        v_lines += [block.x + block.w]\n",
    "        h_lines += [block.y + block.h]\n",
    "    return sorted(set(h_lines)), sorted(set(v_lines))\n",
    "\n",
    "def total_nr_of_connectors(blocks):   \n",
    "    return sum([len(block.term_xy) for block in blocks])\n",
    "\n",
    "\n",
    "def calculate_all_block_gaps(blocks):\n",
    "    \n",
    "    # sort blocks based on x-coordinate\n",
    "    \n",
    "    # check first block against next without overlap, skip with overlap\n",
    "    \n",
    "    # set current block to previous \"next block\"\n",
    "        \n",
    "\n",
    "# Add total_nr_of_connector grid lines between all found gaps\n",
    "\n",
    "# Create graph, block all blocks\n",
    "\n",
    "# route wires\n",
    "\n",
    "print(calculate_all_grid_lines(blocks))"
   ]
  },
  {
   "cell_type": "markdown",
   "metadata": {
    "collapsed": true
   },
   "source": [
    "\n",
    "# The idea\n",
    "\n",
    "Imagine a diagram with several existing wires. Now draw imaginary lines through each wire segment, dividing up the diagram into rectangular areas.\n",
    "\n",
    "The idea of order-based wire routing is that as long as a wire has a corner in one of these rectangles, it doesn't matter where exactly in this rectangle the corner is. It only matters if the corner is in this rectangle or in a different one.\n",
    "\n",
    "The advantage of this over a fixed grid is that maximum freedom in routing is provided (no space can be so narrow that this algorithm cannot find a route through it) while at the same time no two routes evaluated in the shortest path algorithm actually end up being equivalent.\n",
    "\n",
    "# Simplified algorithm overview\n",
    "\n",
    "* Split the diagram up into rectangles\n",
    "* Create a graph connecting the centers of all rectangles\n",
    "* Run the shortest path algorithm on this graph\n",
    "* Once given the shortest logical path, determine the physical path\n",
    "\n",
    "## Split the diagram up into rectangles\n",
    "\n",
    "Take the x-coordinate of each vertical wire segment in the diagram and sort them. Do the same for the y-coordinates of the horizontal wire segments. These lists of x and y coordinates represent a subdivision of the total diagram into rectangles.\n",
    "\n",
    "## Create a graph\n",
    "\n",
    "A graph needs to be created for shortest path calculation. Because we intend to create higher cost for creating corners, we need to encode what rectangle we came from in this graph. We can do this by creating two nodes for each rectangle. One to indicate that the last step was a horizontal one, the other to indicate that it was vertical. \n",
    "The \"horizontal\" nodes in a row of rectangles must be connected by low-cost edges. Similarly the \"vertical\" nodes in a column of rectangles must be connected by low-cost edges. Now to make corners possible, each \"vertical\" node must be connected to the \"horizontal\" nodes on either side of it through a high-cost edge. Similarly each \"horizontal\" node must be connected to the \"vertical\" nodes directly above and below it through a high-cost edge.\n",
    "\n",
    "Edges crossing an actual wire segment should also be more costly than edges crossing the imaginary line extended from a wire segment.\n",
    "\n",
    "## Run shortest path\n",
    "\n",
    "Run the shortest path algorithm on the graph\n",
    "\n",
    "## Turn logical path into physical path\n",
    "\n",
    "Now that you have the logical path that tells you how a wire is routed between other wires, you can get the actual position of each wire segment by averaging the x-coordinates of the wires to its left and right for a vertical wire segment and averaging the y-coordinates of the wires above and below it for a horizontal wire segment.\n",
    "\n",
    "# Removing oversimplifications\n",
    "\n",
    "## Avoiding evaluation of multiple equivalent paths\n",
    "\n",
    "A result of creating an undirected graph, is that a high-cost edge from a \"vertical\" node to the \"horizontal\" node next to it can also be navigated in the other direction from the \"horizontal\" node to the \"vertical node\". Conceptually that is incorrect, because travelling horizontally from a \"horizontal\" node should be cheap. Luckily the only effect of this is that the chosen path will be either more expensive than another equivalent path (when continuing to travel horizontally after the \"vertical\" node) or equally expensive (when travelling vertically after reaching the \"vertical\" node).\n",
    "\n",
    "If for performance reasons the number of possible paths are to be kept to a minimum, then a directed graph should be used instead. Each low-cost edge should be turned into two arrows, one in each direction. Each high-cost edge should be turned into an arrow towards the \"vertical\" node if the edge was vertical and towards the horizontal node if the edge was horizontal.\n",
    "\n",
    "## Avoiding routing through components\n",
    "\n",
    "To avoid routing through components two things have to be done.\n",
    "\n",
    "1. The outer edges of components should be considered line segments when splitting up the diagram into rectangles\n",
    "2. We should not create a node for any rectangles inside a component, but...\n",
    "3. For the components that are connected by the wire to be routed, the rectangles attached to the connectors should get one node in the graph\n",
    "\n",
    "## Avoiding routing in places where there is not enough space\n",
    "\n",
    "Because the shortest path algorithm calculates a logical route, it will always assume that there is space to route a wire in between other wires or components. The graph must be preprocessed to remove nodes that are between wire segments that are too close to each other.\n",
    "\n",
    "Note that:\n",
    "\n",
    "1. wire segments with more one rectangle between them, may still be too close to each other to route between\n",
    "2. wire segments may be very close to each other in one dimension, but if they are far enough apart on in the other dimension (x) routing may still happen in the space between. Only remove nodes between both wire segments.\n",
    "\n",
    "## Allowing routes around objects already on the diagram\n",
    "\n",
    "In order to allow routes around the edge of the diagram when there are too many wires in the center, add the edges to the list of x and y coordinates as well (make sure that these coordinates are beyond any existing objects)."
   ]
  }
 ],
 "metadata": {
  "kernelspec": {
   "display_name": "Python 3",
   "language": "python",
   "name": "python3"
  },
  "language_info": {
   "codemirror_mode": {
    "name": "ipython",
    "version": 3
   },
   "file_extension": ".py",
   "mimetype": "text/x-python",
   "name": "python",
   "nbconvert_exporter": "python",
   "pygments_lexer": "ipython3",
   "version": "3.5.2"
  }
 },
 "nbformat": 4,
 "nbformat_minor": 2
}
